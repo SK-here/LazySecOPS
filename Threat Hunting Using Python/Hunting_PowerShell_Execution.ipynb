{
 "cells": [
  {
   "cell_type": "markdown",
   "id": "ab2f4104-8e4b-4050-a1be-7e320104bb09",
   "metadata": {},
   "source": [
    "# Threat Hunting\n",
    "### Hunting `PowerShell Execution` \n",
    "\n",
    "```\n",
    "@Author: SK\n",
    "```"
   ]
  },
  {
   "cell_type": "markdown",
   "id": "42848bea",
   "metadata": {},
   "source": [
    "### Hypothesis\n",
    "Adversaries leverage `PowerShell to execute code` within the environmen"
   ]
  },
  {
   "cell_type": "markdown",
   "id": "56ae8fff",
   "metadata": {},
   "source": [
    "### Tradecraft\n",
    "Using PowerShell to perform a number of actions, including, discovery of information & code execution. Therefore hunting/analysis of powershell artifacts left when the powershell  is used in the environment."
   ]
  },
  {
   "cell_type": "markdown",
   "id": "dd7e3fc7",
   "metadata": {},
   "source": [
    "### Initialization"
   ]
  },
  {
   "cell_type": "code",
   "execution_count": 1,
   "id": "1afda901-cd7d-4351-a491-ab5e28f52725",
   "metadata": {},
   "outputs": [],
   "source": [
    "## Import Spark Session  \n",
    "from pyspark.sql import SparkSession"
   ]
  },
  {
   "cell_type": "markdown",
   "id": "9d87ad36-b101-4bd2-8e4f-7a4e782c40b1",
   "metadata": {},
   "source": [
    "#### Creating a spark session "
   ]
  },
  {
   "cell_type": "code",
   "execution_count": 2,
   "id": "1afda901-cd7d-4351-a491-ab5e28f52725",
   "metadata": {},
   "outputs": [
    {
     "name": "stderr",
     "output_type": "stream",
     "text": [
      "Setting default log level to \"WARN\".\n",
      "To adjust logging level use sc.setLogLevel(newLevel). For SparkR, use setLogLevel(newLevel).\n",
      "25/01/16 07:34:01 WARN NativeCodeLoader: Unable to load native-hadoop library for your platform... using builtin-java classes where applicable\n"
     ]
    }
   ],
   "source": [
    "# Creatig a spark session\n",
    "spark = SparkSession.builder.master('local[*]').appName('Testing').getOrCreate()\n",
    "\n",
    "# Setting the spark log level to ERROR\n",
    "spark.sparkContext.setLogLevel(\"ERROR\")\n",
    "\n",
    "# Set spark configuration to case sensitive\n",
    "spark.conf.set('spark.sql.caseSensitive', 'true')"
   ]
  },
  {
   "cell_type": "markdown",
   "id": "2798e53a",
   "metadata": {},
   "source": [
    "### Loading Data"
   ]
  },
  {
   "cell_type": "code",
   "execution_count": 3,
   "id": "3d3bb9f2",
   "metadata": {},
   "outputs": [
    {
     "name": "stderr",
     "output_type": "stream",
     "text": [
      "                                                                                \r"
     ]
    }
   ],
   "source": [
    "# Set the output fields to 1000\n",
    "spark.conf.set(\"spark.sql.debug.maxToStringFields\", 1000)\n",
    "\n",
    "# read the json file and stora it into a dataframe named dataset\n",
    "empire = spark.read.json('empire_launcher_vbs_2020-09-04160940.json')\n",
    "\n",
    "# Createa a table named empire for the dataset\n",
    "empire.createOrReplaceTempView(\"empire\")"
   ]
  },
  {
   "cell_type": "markdown",
   "id": "179d57f4",
   "metadata": {},
   "source": [
    "## Knowing the DataSet"
   ]
  },
  {
   "cell_type": "code",
   "execution_count": 4,
   "id": "7a3489f2",
   "metadata": {},
   "outputs": [
    {
     "data": {
      "text/plain": [
       "['@timestamp',\n",
       " '@version',\n",
       " 'AccessList',\n",
       " 'AccessMask',\n",
       " 'AccessReason',\n",
       " 'AccountName',\n",
       " 'AccountType',\n",
       " 'ActivityID',\n",
       " 'Application',\n",
       " 'Archived',\n",
       " 'AuthenticationPackageName',\n",
       " 'CallTrace',\n",
       " 'Category',\n",
       " 'Channel',\n",
       " 'CommandLine',\n",
       " 'Company',\n",
       " 'ContextInfo',\n",
       " 'CreationUtcTime',\n",
       " 'CurrentDirectory',\n",
       " 'Description',\n",
       " 'DestAddress',\n",
       " 'DestPort',\n",
       " 'DestinationHostname',\n",
       " 'DestinationIp',\n",
       " 'DestinationIsIpv6',\n",
       " 'DestinationPort',\n",
       " 'DestinationPortName',\n",
       " 'Details',\n",
       " 'Device',\n",
       " 'Direction',\n",
       " 'DisabledPrivilegeList',\n",
       " 'Domain',\n",
       " 'ERROR_EVT_UNRESOLVED',\n",
       " 'ElevatedToken',\n",
       " 'EnabledPrivilegeList',\n",
       " 'EventCountTotal',\n",
       " 'EventID',\n",
       " 'EventIdx',\n",
       " 'EventReceivedTime',\n",
       " 'EventTime',\n",
       " 'EventType',\n",
       " 'EventTypeOrignal',\n",
       " 'ExecutionProcessID',\n",
       " 'FileVersion',\n",
       " 'FilterRTID',\n",
       " 'GrantedAccess',\n",
       " 'GroupMembership',\n",
       " 'HandleId',\n",
       " 'Hashes',\n",
       " 'Hostname',\n",
       " 'Image',\n",
       " 'ImageLoaded',\n",
       " 'ImpersonationLevel',\n",
       " 'Initiated',\n",
       " 'IntegrityLevel',\n",
       " 'IpAddress',\n",
       " 'IpPort',\n",
       " 'IsExecutable',\n",
       " 'KeyLength',\n",
       " 'Keywords',\n",
       " 'LayerName',\n",
       " 'LayerRTID',\n",
       " 'LmPackageName',\n",
       " 'LogonGuid',\n",
       " 'LogonId',\n",
       " 'LogonProcessName',\n",
       " 'LogonType',\n",
       " 'MandatoryLabel',\n",
       " 'Message',\n",
       " 'MessageNumber',\n",
       " 'MessageTotal',\n",
       " 'NewProcessId',\n",
       " 'NewProcessName',\n",
       " 'NewSd',\n",
       " 'ObjectName',\n",
       " 'ObjectServer',\n",
       " 'ObjectType',\n",
       " 'OldSd',\n",
       " 'Opcode',\n",
       " 'OpcodeValue',\n",
       " 'OriginalFileName',\n",
       " 'ParentCommandLine',\n",
       " 'ParentImage',\n",
       " 'ParentProcessGuid',\n",
       " 'ParentProcessId',\n",
       " 'ParentProcessName',\n",
       " 'Payload',\n",
       " 'PipeName',\n",
       " 'PrivilegeList',\n",
       " 'ProcessGuid',\n",
       " 'ProcessId',\n",
       " 'ProcessName',\n",
       " 'Product',\n",
       " 'Protocol',\n",
       " 'ProviderGuid',\n",
       " 'QueryName',\n",
       " 'QueryResults',\n",
       " 'QueryStatus',\n",
       " 'RecordNumber',\n",
       " 'RemoteMachineID',\n",
       " 'RemoteUserID',\n",
       " 'ResourceAttributes',\n",
       " 'RestrictedAdminMode',\n",
       " 'RestrictedSidCount',\n",
       " 'RuleName',\n",
       " 'ScriptBlockId',\n",
       " 'ScriptBlockText',\n",
       " 'Service',\n",
       " 'Severity',\n",
       " 'SeverityValue',\n",
       " 'Signature',\n",
       " 'SignatureStatus',\n",
       " 'Signed',\n",
       " 'SourceAddress',\n",
       " 'SourceHandleId',\n",
       " 'SourceHostname',\n",
       " 'SourceImage',\n",
       " 'SourceIp',\n",
       " 'SourceIsIpv6',\n",
       " 'SourceModuleName',\n",
       " 'SourceModuleType',\n",
       " 'SourceName',\n",
       " 'SourcePort',\n",
       " 'SourcePortName',\n",
       " 'SourceProcessGUID',\n",
       " 'SourceProcessId',\n",
       " 'SourceThreadId',\n",
       " 'Status',\n",
       " 'SubjectDomainName',\n",
       " 'SubjectLogonId',\n",
       " 'SubjectUserName',\n",
       " 'SubjectUserSid',\n",
       " 'TargetDomainName',\n",
       " 'TargetFilename',\n",
       " 'TargetHandleId',\n",
       " 'TargetImage',\n",
       " 'TargetLinkedLogonId',\n",
       " 'TargetLogonId',\n",
       " 'TargetObject',\n",
       " 'TargetOutboundDomainName',\n",
       " 'TargetOutboundUserName',\n",
       " 'TargetProcessGUID',\n",
       " 'TargetProcessId',\n",
       " 'TargetUserName',\n",
       " 'TargetUserSid',\n",
       " 'Task',\n",
       " 'TerminalSessionId',\n",
       " 'ThreadID',\n",
       " 'TokenElevationType',\n",
       " 'TransactionId',\n",
       " 'TransmittedServices',\n",
       " 'User',\n",
       " 'UserID',\n",
       " 'UtcTime',\n",
       " 'Version',\n",
       " 'VirtualAccount',\n",
       " 'WorkstationName',\n",
       " 'host',\n",
       " 'param1',\n",
       " 'param2',\n",
       " 'port',\n",
       " 'tags']"
      ]
     },
     "execution_count": 4,
     "metadata": {},
     "output_type": "execute_result"
    }
   ],
   "source": [
    "# Show the dataset columns (Identify the fiels we're looking for)\n",
    "empire.columns"
   ]
  },
  {
   "cell_type": "markdown",
   "id": "315ba5a6",
   "metadata": {},
   "source": [
    "---\n",
    "#### Hunting"
   ]
  },
  {
   "cell_type": "markdown",
   "id": "b62b5fdd",
   "metadata": {},
   "source": [
    "#### Analytics 1: Within the classic powershell log, event ID 400 indicates when a new PowerShell host process has started. To filter use `powershell.exe` or capture every single powershell hosts. "
   ]
  },
  {
   "cell_type": "code",
   "execution_count": 5,
   "id": "10c85eb5",
   "metadata": {},
   "outputs": [
    {
     "name": "stdout",
     "output_type": "stream",
     "text": [
      "+----------+----------------------------------------+---------------------------+\n",
      "|@timestamp|Channel                                 |Hostname                   |\n",
      "+----------+----------------------------------------+---------------------------+\n",
      "|@timestamp|Windows PowerShell                      |WORKSTATION5.theshire.local|\n",
      "|@timestamp|Microsoft-Windows-PowerShell/Operational|WORKSTATION5.theshire.local|\n",
      "|@timestamp|Microsoft-Windows-PowerShell/Operational|WORKSTATION5.theshire.local|\n",
      "|@timestamp|Microsoft-Windows-PowerShell/Operational|WORKSTATION5.theshire.local|\n",
      "|@timestamp|Microsoft-Windows-PowerShell/Operational|WORKSTATION5.theshire.local|\n",
      "|@timestamp|Microsoft-Windows-PowerShell/Operational|WORKSTATION5.theshire.local|\n",
      "|@timestamp|Microsoft-Windows-PowerShell/Operational|WORKSTATION5.theshire.local|\n",
      "|@timestamp|Microsoft-Windows-PowerShell/Operational|WORKSTATION5.theshire.local|\n",
      "|@timestamp|Microsoft-Windows-PowerShell/Operational|WORKSTATION5.theshire.local|\n",
      "|@timestamp|Microsoft-Windows-PowerShell/Operational|WORKSTATION5.theshire.local|\n",
      "+----------+----------------------------------------+---------------------------+\n",
      "only showing top 10 rows\n",
      "\n"
     ]
    }
   ],
   "source": [
    "# Select @timestamp, Channel, Hostname were Channel == 'Windows PowerShell' or 'Microsoft-Windows-PowerShell/Operational' AND EventID == 400 or 4103 from the dataset\n",
    "query = '''\n",
    "        SELECT '@timestamp', Channel, Hostname \n",
    "        FROM empire \n",
    "        WHERE (Channel = 'Windows PowerShell' OR Channel = 'Microsoft-Windows-PowerShell/Operational') \n",
    "        AND (EventID = 400 OR EventID = 4103)\n",
    "        '''\n",
    "\n",
    "dataset = spark.sql(query)\n",
    "\n",
    "dataset.show(10, False)"
   ]
  },
  {
   "cell_type": "markdown",
   "id": "bf5ebdd1",
   "metadata": {},
   "source": [
    "#### Analytics 2: Look for non-interactive PowerShell session might be a sign of a PowerShell being executed by another application in the background"
   ]
  },
  {
   "cell_type": "code",
   "execution_count": 10,
   "id": "863052ed",
   "metadata": {},
   "outputs": [
    {
     "name": "stdout",
     "output_type": "stream",
     "text": [
      "+---------------------------+--------+-------+---------------------------------------------------------+-------------------------------+\n",
      "|Hostname                   |Channel |EventID|NewProcessName                                           |ParentProcessName              |\n",
      "+---------------------------+--------+-------+---------------------------------------------------------+-------------------------------+\n",
      "|WORKSTATION5.theshire.local|Security|4688   |C:\\Windows\\System32\\WindowsPowerShell\\v1.0\\powershell.exe|C:\\Windows\\System32\\wscript.exe|\n",
      "+---------------------------+--------+-------+---------------------------------------------------------+-------------------------------+\n",
      "\n"
     ]
    }
   ],
   "source": [
    "# Select Hostname, Channel, EventID, NewProcessName, ParentProcessName where lower(Channel) == 'security' and EventID == 4688 and 'PowerShell' in NewProcessName and ParentProcessName != 'explorer' from the dataset\n",
    "query = '''\n",
    "\t\tSELECT Hostname, Channel, EventID, NewProcessName, ParentProcessName\n",
    "\t\tFROM empire\n",
    "\t\tWHERE lower(Channel) = 'security' \n",
    "\t\tAND EventID = 4688 \n",
    "\t\tAND NewProcessName LIKE '%PowerShell%' \n",
    "\t\tAND NOT ParentProcessName LIKE '%explorer'\n",
    "\t\t'''\n",
    "\n",
    "dataset = spark.sql(query)\n",
    "\n",
    "dataset.show(10, False)"
   ]
  },
  {
   "cell_type": "markdown",
   "id": "5756cb96",
   "metadata": {},
   "source": [
    "### Analytics 3: Monitor for process loading PowerShell DLL `system.management.automation`"
   ]
  },
  {
   "cell_type": "code",
   "execution_count": 18,
   "id": "7f43bee6",
   "metadata": {},
   "outputs": [
    {
     "name": "stdout",
     "output_type": "stream",
     "text": [
      "+----------+---------------------------+---------------------------------------------------------+----------------------------------------------------------------------------------------------------------------------------------------+\n",
      "|@timestamp|Hostname                   |Image                                                    |ImageLoaded                                                                                                                             |\n",
      "+----------+---------------------------+---------------------------------------------------------+----------------------------------------------------------------------------------------------------------------------------------------+\n",
      "|@timestamp|WORKSTATION5.theshire.local|C:\\Windows\\System32\\WindowsPowerShell\\v1.0\\powershell.exe|C:\\Windows\\assembly\\NativeImages_v4.0.30319_64\\System.Manaa57fc8cc#\\8c159a697bcf84de413ace36e043a6c7\\System.Management.Automation.ni.dll|\n",
      "+----------+---------------------------+---------------------------------------------------------+----------------------------------------------------------------------------------------------------------------------------------------+\n",
      "\n"
     ]
    }
   ],
   "source": [
    "# Monitor for process loading PowerShell DLL `system.management.automation` from the dataset\n",
    "query = '''\n",
    "        SELECT '@timestamp', Hostname, Image, ImageLoaded\n",
    "        FROM empire\n",
    "        WHERE Channel = 'Microsoft-Windows-Sysmon/Operational' \n",
    "        AND EventID = 7 \n",
    "        AND (lower(Description) = 'system.management.automation' OR lower(ImageLoaded) LIKE '%system.management.automation%')\n",
    "        '''\n",
    "\n",
    "dataset = spark.sql(query)\n",
    "\n",
    "dataset.show(10, False)"
   ]
  },
  {
   "cell_type": "markdown",
   "id": "ec2532e7",
   "metadata": {},
   "source": [
    "### Analytics 5: Monitor the PSHost* pipes to find another powerhell execution"
   ]
  },
  {
   "cell_type": "code",
   "execution_count": 19,
   "id": "8f422f39",
   "metadata": {},
   "outputs": [
    {
     "name": "stdout",
     "output_type": "stream",
     "text": [
      "+----------+--------+-----+--------+\n",
      "|@timestamp|Hostname|Image|PipeName|\n",
      "+----------+--------+-----+--------+\n",
      "+----------+--------+-----+--------+\n",
      "\n"
     ]
    }
   ],
   "source": [
    "query = '''\n",
    "        SELECT '@timestamp', Hostname, Image, PipeName\n",
    "        FROM empire\n",
    "        WHERE Channel = 'Microsoft-Windows-Sysmon/Operational' \n",
    "        AND EventID = 17 \n",
    "        AND lower(PipeName) LIKE '\\\\pshos%'\n",
    "        '''\n",
    "\n",
    "dataset = spark.sql(query)\n",
    "\n",
    "dataset.show(10, False)"
   ]
  },
  {
   "cell_type": "markdown",
   "id": "fef3b891",
   "metadata": {},
   "source": [
    "### Analytics 6: looking for the `\"PowerShell Name Pip IPC\"` event indicate the name of the process that the AppDomain PoweShell process executed."
   ]
  },
  {
   "cell_type": "code",
   "execution_count": 21,
   "id": "257e7dff",
   "metadata": {},
   "outputs": [
    {
     "name": "stdout",
     "output_type": "stream",
     "text": [
      "+----------+---------------------------+-------------------------------------------------------------------------------------------------------+\n",
      "|@timestamp|Hostname                   |Message                                                                                                |\n",
      "+----------+---------------------------+-------------------------------------------------------------------------------------------------------+\n",
      "|@timestamp|WORKSTATION5.theshire.local|Windows PowerShell has started an IPC listening thread on process: 2316 in AppDomain: DefaultAppDomain.|\n",
      "+----------+---------------------------+-------------------------------------------------------------------------------------------------------+\n",
      "\n"
     ]
    }
   ],
   "source": [
    "# Select @timestamp, Hostname, Message where EventID = 53504 for Channel 'Microsodt-Windows-PowerShell/Operational' from the dataset\n",
    "query = '''\n",
    "        SELECT '@timestamp', Hostname, Message\n",
    "        FROM empire\n",
    "        WHERE Channel = 'Microsoft-Windows-PowerShell/Operational' \n",
    "        AND EventID = 53504\n",
    "        '''\n",
    "\n",
    "dataset = spark.sql(query)\n",
    "\n",
    "dataset.show(10, False)"
   ]
  }
 ],
 "metadata": {
  "kernelspec": {
   "display_name": "Python 3",
   "language": "python",
   "name": "python3"
  },
  "language_info": {
   "codemirror_mode": {
    "name": "ipython",
    "version": 3
   },
   "file_extension": ".py",
   "mimetype": "text/x-python",
   "name": "python",
   "nbconvert_exporter": "python",
   "pygments_lexer": "ipython3",
   "version": "3.12.2"
  }
 },
 "nbformat": 4,
 "nbformat_minor": 5
}
